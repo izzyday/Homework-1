{
 "cells": [
  {
   "cell_type": "code",
   "execution_count": 2,
   "id": "198b547f",
   "metadata": {},
   "outputs": [
    {
     "name": "stdout",
     "output_type": "stream",
     "text": [
      "[30, 35, 40, 45, 50, 55]\n"
     ]
    }
   ],
   "source": [
    "numbers = list(range(30, 60, 5))\n",
    "print(numbers)"
   ]
  },
  {
   "cell_type": "code",
   "execution_count": 7,
   "id": "4521f176",
   "metadata": {},
   "outputs": [
    {
     "data": {
      "text/plain": [
       "[55, 50, 45, 40, 35, 30]"
      ]
     },
     "execution_count": 7,
     "metadata": {},
     "output_type": "execute_result"
    }
   ],
   "source": [
    "numbers[::-1]"
   ]
  },
  {
   "cell_type": "code",
   "execution_count": 9,
   "id": "9b589697",
   "metadata": {},
   "outputs": [
    {
     "data": {
      "text/plain": [
       "[65, 65, 55, 50, 45, 40, 35, 30]"
      ]
     },
     "execution_count": 9,
     "metadata": {},
     "output_type": "execute_result"
    }
   ],
   "source": [
    "numbers.append(65)\n",
    "numbers[::-1]"
   ]
  },
  {
   "cell_type": "code",
   "execution_count": 12,
   "id": "d392c495",
   "metadata": {},
   "outputs": [
    {
     "name": "stdout",
     "output_type": "stream",
     "text": [
      "[0, 1, 2, 3, 4, 5, 6, 7, 8, 9, 10, 11, 12, 13, 14, 15, 16, 17, 18, 19, 20]\n"
     ]
    }
   ],
   "source": [
    "hwlist=[]\n",
    "for i in range(21):\n",
    "    hwlist.append(i)\n",
    "\n",
    "print(hwlist)"
   ]
  },
  {
   "cell_type": "code",
   "execution_count": 13,
   "id": "7881f6f2",
   "metadata": {},
   "outputs": [
    {
     "name": "stdout",
     "output_type": "stream",
     "text": [
      "[1, 2, 3, 4, 5, 6, 7, 8, 9, 10, 11, 12, 13, 14, 15, 16, 17, 18, 19, 20]\n"
     ]
    }
   ],
   "source": [
    "hwlist.remove(0)\n",
    "print(hwlist)"
   ]
  },
  {
   "cell_type": "code",
   "execution_count": 16,
   "id": "ee5337f2",
   "metadata": {},
   "outputs": [
    {
     "name": "stdout",
     "output_type": "stream",
     "text": [
      "20\n",
      "20\n",
      "1\n"
     ]
    }
   ],
   "source": [
    "print(len(hwlist))\n",
    "print(max(hwlist))\n",
    "print(min(hwlist))"
   ]
  },
  {
   "cell_type": "code",
   "execution_count": 17,
   "id": "ad6fdc9c",
   "metadata": {},
   "outputs": [
    {
     "name": "stdout",
     "output_type": "stream",
     "text": [
      "210\n"
     ]
    }
   ],
   "source": [
    "print(sum(hwlist))"
   ]
  },
  {
   "cell_type": "code",
   "execution_count": 21,
   "id": "6cd7fabe",
   "metadata": {},
   "outputs": [
    {
     "name": "stdout",
     "output_type": "stream",
     "text": [
      "when sunny let us play\n",
      "when rainy let us watch TV\n",
      "when cloudy let us walk\n"
     ]
    }
   ],
   "source": [
    "weather = {\"sunny\":\"play\", \"rainy\":\"watch TV\", \"cloudy\":\"walk\"}\n",
    "for key in weather:\n",
    "    print(\"when\", key, \"let us\", weather[key])"
   ]
  },
  {
   "cell_type": "code",
   "execution_count": 23,
   "id": "f02ccc33",
   "metadata": {},
   "outputs": [
    {
     "name": "stdout",
     "output_type": "stream",
     "text": [
      "when sunny let us play\n",
      "when rainy let us watch TV\n",
      "when cloudy let us walk\n",
      "when snowy let us ski\n"
     ]
    }
   ],
   "source": [
    "weather.update({\"snowy\":\"ski\"})\n",
    "for key in weather:\n",
    "    print(\"when\", key, \"let us\", weather[key])"
   ]
  }
 ],
 "metadata": {
  "kernelspec": {
   "display_name": "Python 3 (ipykernel)",
   "language": "python",
   "name": "python3"
  },
  "language_info": {
   "codemirror_mode": {
    "name": "ipython",
    "version": 3
   },
   "file_extension": ".py",
   "mimetype": "text/x-python",
   "name": "python",
   "nbconvert_exporter": "python",
   "pygments_lexer": "ipython3",
   "version": "3.9.12"
  }
 },
 "nbformat": 4,
 "nbformat_minor": 5
}
